{
 "cells": [
  {
   "cell_type": "markdown",
   "metadata": {},
   "source": [
    "## **Análise: desastre do Titanic**\n",
    "\n",
    "**Autor:** Rodolfo Viana<br>\n",
    "**Data:** 17 de novembro de 2018<br>\n",
    "**Arquivo:** `titanic-data-6.csv`\n",
    "\n",
    "Vamos fazer uma análise descritiva do desastre do Titanic a partir de dados fornecidos pela plataforma Kaggle. Esta análise é o projeto final do nanodegree Fundamentos de Ciência de Dados I, da Udacity."
   ]
  },
  {
   "cell_type": "code",
   "execution_count": 1,
   "metadata": {},
   "outputs": [],
   "source": [
    "# Importação e configuração de bibliotecas\n",
    "import pandas as pd\n",
    "import numpy as np\n",
    "import matplotlib.pyplot as plt\n",
    "%matplotlib inline\n",
    "import seaborn as sns\n",
    "\n",
    "pd.set_option('display.max_rows', None) # Por hábito, uso 'None' em 'display.max_rows' para não ter limite de linhas no output\n",
    "sns.set(style='darkgrid', font_scale=1.2) # Grid escuro e fonte levemente maior"
   ]
  },
  {
   "cell_type": "code",
   "execution_count": 2,
   "metadata": {},
   "outputs": [],
   "source": [
    "# Leitura dos dados\n",
    "titanic = pd.read_csv('data/titanic-data-6.csv') # O arquivo `.csv` está em na pasta `data`"
   ]
  },
  {
   "cell_type": "code",
   "execution_count": 3,
   "metadata": {},
   "outputs": [
    {
     "data": {
      "text/html": [
       "<div>\n",
       "<style scoped>\n",
       "    .dataframe tbody tr th:only-of-type {\n",
       "        vertical-align: middle;\n",
       "    }\n",
       "\n",
       "    .dataframe tbody tr th {\n",
       "        vertical-align: top;\n",
       "    }\n",
       "\n",
       "    .dataframe thead th {\n",
       "        text-align: right;\n",
       "    }\n",
       "</style>\n",
       "<table border=\"1\" class=\"dataframe\">\n",
       "  <thead>\n",
       "    <tr style=\"text-align: right;\">\n",
       "      <th></th>\n",
       "      <th>PassengerId</th>\n",
       "      <th>Survived</th>\n",
       "      <th>Pclass</th>\n",
       "      <th>Name</th>\n",
       "      <th>Sex</th>\n",
       "      <th>Age</th>\n",
       "      <th>SibSp</th>\n",
       "      <th>Parch</th>\n",
       "      <th>Ticket</th>\n",
       "      <th>Fare</th>\n",
       "      <th>Cabin</th>\n",
       "      <th>Embarked</th>\n",
       "    </tr>\n",
       "  </thead>\n",
       "  <tbody>\n",
       "    <tr>\n",
       "      <th>0</th>\n",
       "      <td>1</td>\n",
       "      <td>0</td>\n",
       "      <td>3</td>\n",
       "      <td>Braund, Mr. Owen Harris</td>\n",
       "      <td>male</td>\n",
       "      <td>22.0</td>\n",
       "      <td>1</td>\n",
       "      <td>0</td>\n",
       "      <td>A/5 21171</td>\n",
       "      <td>7.2500</td>\n",
       "      <td>NaN</td>\n",
       "      <td>S</td>\n",
       "    </tr>\n",
       "    <tr>\n",
       "      <th>1</th>\n",
       "      <td>2</td>\n",
       "      <td>1</td>\n",
       "      <td>1</td>\n",
       "      <td>Cumings, Mrs. John Bradley (Florence Briggs Th...</td>\n",
       "      <td>female</td>\n",
       "      <td>38.0</td>\n",
       "      <td>1</td>\n",
       "      <td>0</td>\n",
       "      <td>PC 17599</td>\n",
       "      <td>71.2833</td>\n",
       "      <td>C85</td>\n",
       "      <td>C</td>\n",
       "    </tr>\n",
       "    <tr>\n",
       "      <th>2</th>\n",
       "      <td>3</td>\n",
       "      <td>1</td>\n",
       "      <td>3</td>\n",
       "      <td>Heikkinen, Miss. Laina</td>\n",
       "      <td>female</td>\n",
       "      <td>26.0</td>\n",
       "      <td>0</td>\n",
       "      <td>0</td>\n",
       "      <td>STON/O2. 3101282</td>\n",
       "      <td>7.9250</td>\n",
       "      <td>NaN</td>\n",
       "      <td>S</td>\n",
       "    </tr>\n",
       "    <tr>\n",
       "      <th>3</th>\n",
       "      <td>4</td>\n",
       "      <td>1</td>\n",
       "      <td>1</td>\n",
       "      <td>Futrelle, Mrs. Jacques Heath (Lily May Peel)</td>\n",
       "      <td>female</td>\n",
       "      <td>35.0</td>\n",
       "      <td>1</td>\n",
       "      <td>0</td>\n",
       "      <td>113803</td>\n",
       "      <td>53.1000</td>\n",
       "      <td>C123</td>\n",
       "      <td>S</td>\n",
       "    </tr>\n",
       "    <tr>\n",
       "      <th>4</th>\n",
       "      <td>5</td>\n",
       "      <td>0</td>\n",
       "      <td>3</td>\n",
       "      <td>Allen, Mr. William Henry</td>\n",
       "      <td>male</td>\n",
       "      <td>35.0</td>\n",
       "      <td>0</td>\n",
       "      <td>0</td>\n",
       "      <td>373450</td>\n",
       "      <td>8.0500</td>\n",
       "      <td>NaN</td>\n",
       "      <td>S</td>\n",
       "    </tr>\n",
       "  </tbody>\n",
       "</table>\n",
       "</div>"
      ],
      "text/plain": [
       "   PassengerId  Survived  Pclass  \\\n",
       "0            1         0       3   \n",
       "1            2         1       1   \n",
       "2            3         1       3   \n",
       "3            4         1       1   \n",
       "4            5         0       3   \n",
       "\n",
       "                                                Name     Sex   Age  SibSp  \\\n",
       "0                            Braund, Mr. Owen Harris    male  22.0      1   \n",
       "1  Cumings, Mrs. John Bradley (Florence Briggs Th...  female  38.0      1   \n",
       "2                             Heikkinen, Miss. Laina  female  26.0      0   \n",
       "3       Futrelle, Mrs. Jacques Heath (Lily May Peel)  female  35.0      1   \n",
       "4                           Allen, Mr. William Henry    male  35.0      0   \n",
       "\n",
       "   Parch            Ticket     Fare Cabin Embarked  \n",
       "0      0         A/5 21171   7.2500   NaN        S  \n",
       "1      0          PC 17599  71.2833   C85        C  \n",
       "2      0  STON/O2. 3101282   7.9250   NaN        S  \n",
       "3      0            113803  53.1000  C123        S  \n",
       "4      0            373450   8.0500   NaN        S  "
      ]
     },
     "execution_count": 3,
     "metadata": {},
     "output_type": "execute_result"
    }
   ],
   "source": [
    "# Observação dos cinco primeiros registros\n",
    "titanic.head()"
   ]
  },
  {
   "cell_type": "markdown",
   "metadata": {},
   "source": [
    "Definições dos headers de acordo com o Kaggle:\n",
    "\n",
    "| Variável | Definição | Chaves | Observação |\n",
    "|----------|-----------|--------|------------|\n",
    "| PassengerId | ID do passageiro | - | - |\n",
    "| Survived | Se sobreviveu ao acidente | 0 = Não, 1 = Sim | - |\n",
    "| Pclass | Classe da passagem | 1 = primeira, 2 = segunda, 3 = terceira | - |\n",
    "| Name | Nome do passageiro | - | Sobrenome, Nome |\n",
    "| Sex | Gênero | - | - |\n",
    "| Age | Idade | - | Em anos, exceto quando menor de 1 ano ou quando estimado\n",
    "| SibSp | Qtde de acompanhantes, quando irmãos ou cônjuge | - | Amantes e noivos/noivas são desconsiderados |\n",
    "| Parch | Qtde de acompanhantes, quando pais ou filhos | - | Crianças que viajaram com babá, sem pais, recebem valor 0 |\n",
    "| Ticket | Nº da passagem | - | - |\n",
    "| Fare | Valor da passagem | - | - |\n",
    "| Cabin | Nº da cabine | - | - |\n",
    "| Embarked | Onde embarcou | C = Cherbourg, Q = Queenstown, S = Southampton | - |\n",
    "\n",
    "Vamos traduzir ou mudar os headers para algo compreensível:"
   ]
  },
  {
   "cell_type": "code",
   "execution_count": 4,
   "metadata": {},
   "outputs": [],
   "source": [
    "# Renomeação de colunas no dataframe\n",
    "titanic.rename(columns={'PassengerId': 'id', \n",
    "                        'Survived': 'status_sobrevivencia', \n",
    "                        'Pclass': 'classe', \n",
    "                        'Name': 'nome', \n",
    "                        'Sex': 'genero', \n",
    "                        'Age': 'idade', \n",
    "                        'SibSp': 'conjuge_irmaos', \n",
    "                        'Parch': 'pais_filhos', \n",
    "                        'Ticket': 'passagem', \n",
    "                        'Fare': 'valor', \n",
    "                        'Cabin': 'cabine', \n",
    "                        'Embarked': 'porto_origem'}, \n",
    "               inplace=True) # `inplace=True` mas mudar no original, e não em cópia"
   ]
  },
  {
   "cell_type": "code",
   "execution_count": 5,
   "metadata": {},
   "outputs": [
    {
     "name": "stdout",
     "output_type": "stream",
     "text": [
      "<class 'pandas.core.frame.DataFrame'>\n",
      "RangeIndex: 891 entries, 0 to 890\n",
      "Data columns (total 12 columns):\n",
      "id                      891 non-null int64\n",
      "status_sobrevivencia    891 non-null int64\n",
      "classe                  891 non-null int64\n",
      "nome                    891 non-null object\n",
      "genero                  891 non-null object\n",
      "idade                   714 non-null float64\n",
      "conjuge_irmaos          891 non-null int64\n",
      "pais_filhos             891 non-null int64\n",
      "passagem                891 non-null object\n",
      "valor                   891 non-null float64\n",
      "cabine                  204 non-null object\n",
      "porto_origem            889 non-null object\n",
      "dtypes: float64(2), int64(5), object(5)\n",
      "memory usage: 66.2+ KB\n"
     ]
    }
   ],
   "source": [
    "# Checagem de dados\n",
    "titanic.info()"
   ]
  },
  {
   "cell_type": "markdown",
   "metadata": {},
   "source": [
    "Temos em análise 891 registros em 12 colunas. Em `idade`, `cabine` e `porto_origem` há valores nulos.\n",
    "\n",
    "Vamos mudar, em `status_sobrevivencia` e `porto_origem`, as chaves pelo que elas representam. Assim não precisamos consultar a descrição sempre. Também em `genero`, para traduzir."
   ]
  },
  {
   "cell_type": "code",
   "execution_count": 6,
   "metadata": {},
   "outputs": [],
   "source": [
    "# Substituição dos valores com o uso de `map({dict})`\n",
    "titanic['status_sobrevivencia'] = titanic['status_sobrevivencia'].map({0:'Não', 1:'Sim'})\n",
    "titanic['porto_origem'] = titanic['porto_origem'].map({'C':'Cherbourg', 'Q':'Queenstown', 'S': 'Southampton'})\n",
    "titanic['genero'] = titanic['genero'].map({'male':'Masculino', 'female':'Feminino'})"
   ]
  },
  {
   "cell_type": "code",
   "execution_count": 7,
   "metadata": {},
   "outputs": [
    {
     "data": {
      "text/html": [
       "<div>\n",
       "<style scoped>\n",
       "    .dataframe tbody tr th:only-of-type {\n",
       "        vertical-align: middle;\n",
       "    }\n",
       "\n",
       "    .dataframe tbody tr th {\n",
       "        vertical-align: top;\n",
       "    }\n",
       "\n",
       "    .dataframe thead th {\n",
       "        text-align: right;\n",
       "    }\n",
       "</style>\n",
       "<table border=\"1\" class=\"dataframe\">\n",
       "  <thead>\n",
       "    <tr style=\"text-align: right;\">\n",
       "      <th></th>\n",
       "      <th>id</th>\n",
       "      <th>status_sobrevivencia</th>\n",
       "      <th>classe</th>\n",
       "      <th>nome</th>\n",
       "      <th>genero</th>\n",
       "      <th>idade</th>\n",
       "      <th>conjuge_irmaos</th>\n",
       "      <th>pais_filhos</th>\n",
       "      <th>passagem</th>\n",
       "      <th>valor</th>\n",
       "      <th>cabine</th>\n",
       "      <th>porto_origem</th>\n",
       "    </tr>\n",
       "  </thead>\n",
       "  <tbody>\n",
       "    <tr>\n",
       "      <th>0</th>\n",
       "      <td>1</td>\n",
       "      <td>Não</td>\n",
       "      <td>3</td>\n",
       "      <td>Braund, Mr. Owen Harris</td>\n",
       "      <td>Masculino</td>\n",
       "      <td>22.0</td>\n",
       "      <td>1</td>\n",
       "      <td>0</td>\n",
       "      <td>A/5 21171</td>\n",
       "      <td>7.2500</td>\n",
       "      <td>NaN</td>\n",
       "      <td>Southampton</td>\n",
       "    </tr>\n",
       "    <tr>\n",
       "      <th>1</th>\n",
       "      <td>2</td>\n",
       "      <td>Sim</td>\n",
       "      <td>1</td>\n",
       "      <td>Cumings, Mrs. John Bradley (Florence Briggs Th...</td>\n",
       "      <td>Feminino</td>\n",
       "      <td>38.0</td>\n",
       "      <td>1</td>\n",
       "      <td>0</td>\n",
       "      <td>PC 17599</td>\n",
       "      <td>71.2833</td>\n",
       "      <td>C85</td>\n",
       "      <td>Cherbourg</td>\n",
       "    </tr>\n",
       "    <tr>\n",
       "      <th>2</th>\n",
       "      <td>3</td>\n",
       "      <td>Sim</td>\n",
       "      <td>3</td>\n",
       "      <td>Heikkinen, Miss. Laina</td>\n",
       "      <td>Feminino</td>\n",
       "      <td>26.0</td>\n",
       "      <td>0</td>\n",
       "      <td>0</td>\n",
       "      <td>STON/O2. 3101282</td>\n",
       "      <td>7.9250</td>\n",
       "      <td>NaN</td>\n",
       "      <td>Southampton</td>\n",
       "    </tr>\n",
       "    <tr>\n",
       "      <th>3</th>\n",
       "      <td>4</td>\n",
       "      <td>Sim</td>\n",
       "      <td>1</td>\n",
       "      <td>Futrelle, Mrs. Jacques Heath (Lily May Peel)</td>\n",
       "      <td>Feminino</td>\n",
       "      <td>35.0</td>\n",
       "      <td>1</td>\n",
       "      <td>0</td>\n",
       "      <td>113803</td>\n",
       "      <td>53.1000</td>\n",
       "      <td>C123</td>\n",
       "      <td>Southampton</td>\n",
       "    </tr>\n",
       "    <tr>\n",
       "      <th>4</th>\n",
       "      <td>5</td>\n",
       "      <td>Não</td>\n",
       "      <td>3</td>\n",
       "      <td>Allen, Mr. William Henry</td>\n",
       "      <td>Masculino</td>\n",
       "      <td>35.0</td>\n",
       "      <td>0</td>\n",
       "      <td>0</td>\n",
       "      <td>373450</td>\n",
       "      <td>8.0500</td>\n",
       "      <td>NaN</td>\n",
       "      <td>Southampton</td>\n",
       "    </tr>\n",
       "  </tbody>\n",
       "</table>\n",
       "</div>"
      ],
      "text/plain": [
       "   id status_sobrevivencia  classe  \\\n",
       "0   1                  Não       3   \n",
       "1   2                  Sim       1   \n",
       "2   3                  Sim       3   \n",
       "3   4                  Sim       1   \n",
       "4   5                  Não       3   \n",
       "\n",
       "                                                nome     genero  idade  \\\n",
       "0                            Braund, Mr. Owen Harris  Masculino   22.0   \n",
       "1  Cumings, Mrs. John Bradley (Florence Briggs Th...   Feminino   38.0   \n",
       "2                             Heikkinen, Miss. Laina   Feminino   26.0   \n",
       "3       Futrelle, Mrs. Jacques Heath (Lily May Peel)   Feminino   35.0   \n",
       "4                           Allen, Mr. William Henry  Masculino   35.0   \n",
       "\n",
       "   conjuge_irmaos  pais_filhos          passagem    valor cabine porto_origem  \n",
       "0               1            0         A/5 21171   7.2500    NaN  Southampton  \n",
       "1               1            0          PC 17599  71.2833    C85    Cherbourg  \n",
       "2               0            0  STON/O2. 3101282   7.9250    NaN  Southampton  \n",
       "3               1            0            113803  53.1000   C123  Southampton  \n",
       "4               0            0            373450   8.0500    NaN  Southampton  "
      ]
     },
     "execution_count": 7,
     "metadata": {},
     "output_type": "execute_result"
    }
   ],
   "source": [
    "# Checagem dos dados\n",
    "titanic.head()"
   ]
  },
  {
   "cell_type": "markdown",
   "metadata": {},
   "source": [
    "### Pergunta 1: _Quem eram os passageiros do Titanic?_\n",
    "\n",
    "Vamos fazer recortes por gênero, idade, se viajavam sozinhos ou com familiares, quanto pagaram pela passagem e em quais classes estavam."
   ]
  },
  {
   "cell_type": "code",
   "execution_count": 8,
   "metadata": {},
   "outputs": [
    {
     "data": {
      "text/plain": [
       "Masculino    577\n",
       "Feminino     314\n",
       "Name: genero, dtype: int64"
      ]
     },
     "execution_count": 8,
     "metadata": {},
     "output_type": "execute_result"
    }
   ],
   "source": [
    "# Contagem por gênero em valor absoluto\n",
    "titanic['genero'].value_counts()"
   ]
  },
  {
   "cell_type": "code",
   "execution_count": 9,
   "metadata": {},
   "outputs": [
    {
     "data": {
      "text/plain": [
       "Masculino    0.647587\n",
       "Feminino     0.352413\n",
       "Name: genero, dtype: float64"
      ]
     },
     "execution_count": 9,
     "metadata": {},
     "output_type": "execute_result"
    }
   ],
   "source": [
    "# Contagem por gênero em valor percentual\n",
    "titanic['genero'].value_counts(normalize=True) # `normalize=True` é usado para tomar o valor percentual"
   ]
  },
  {
   "cell_type": "markdown",
   "metadata": {},
   "source": [
    "No Titanic, 577 passageiros eram homens (64,75%) e 314 eram mulheres (35,24%). \n",
    "\n",
    "Vamos ver as idades. Antes, porém, vejamos quantos valores estão nulos:"
   ]
  },
  {
   "cell_type": "code",
   "execution_count": 10,
   "metadata": {},
   "outputs": [
    {
     "data": {
      "text/plain": [
       "177"
      ]
     },
     "execution_count": 10,
     "metadata": {},
     "output_type": "execute_result"
    }
   ],
   "source": [
    "# Contagem de idades nulas\n",
    "titanic['idade'].isnull().sum() # `.isnull()` traz valores booleanos -- tendo `True` o valor de 1"
   ]
  },
  {
   "cell_type": "markdown",
   "metadata": {},
   "source": [
    "Há 177 registros com valor nulo -- ou seja, sem idade.\n",
    "\n",
    "Vamos ver as idades que constam nos registros válidos:"
   ]
  },
  {
   "cell_type": "code",
   "execution_count": 11,
   "metadata": {},
   "outputs": [
    {
     "data": {
      "text/plain": [
       "24.00    30\n",
       "22.00    27\n",
       "18.00    26\n",
       "19.00    25\n",
       "30.00    25\n",
       "28.00    25\n",
       "21.00    24\n",
       "25.00    23\n",
       "36.00    22\n",
       "29.00    20\n",
       "32.00    18\n",
       "27.00    18\n",
       "35.00    18\n",
       "26.00    18\n",
       "16.00    17\n",
       "31.00    17\n",
       "20.00    15\n",
       "33.00    15\n",
       "23.00    15\n",
       "34.00    15\n",
       "39.00    14\n",
       "17.00    13\n",
       "42.00    13\n",
       "40.00    13\n",
       "45.00    12\n",
       "38.00    11\n",
       "50.00    10\n",
       "2.00     10\n",
       "4.00     10\n",
       "47.00     9\n",
       "44.00     9\n",
       "48.00     9\n",
       "54.00     8\n",
       "9.00      8\n",
       "1.00      7\n",
       "51.00     7\n",
       "52.00     6\n",
       "14.00     6\n",
       "3.00      6\n",
       "49.00     6\n",
       "41.00     6\n",
       "37.00     6\n",
       "15.00     5\n",
       "43.00     5\n",
       "58.00     5\n",
       "11.00     4\n",
       "62.00     4\n",
       "60.00     4\n",
       "8.00      4\n",
       "56.00     4\n",
       "5.00      4\n",
       "46.00     3\n",
       "65.00     3\n",
       "7.00      3\n",
       "6.00      3\n",
       "61.00     3\n",
       "55.00     2\n",
       "28.50     2\n",
       "71.00     2\n",
       "59.00     2\n",
       "63.00     2\n",
       "0.83      2\n",
       "30.50     2\n",
       "70.00     2\n",
       "57.00     2\n",
       "0.75      2\n",
       "13.00     2\n",
       "10.00     2\n",
       "64.00     2\n",
       "40.50     2\n",
       "32.50     2\n",
       "45.50     2\n",
       "20.50     1\n",
       "24.50     1\n",
       "0.67      1\n",
       "14.50     1\n",
       "0.92      1\n",
       "74.00     1\n",
       "34.50     1\n",
       "80.00     1\n",
       "12.00     1\n",
       "36.50     1\n",
       "53.00     1\n",
       "55.50     1\n",
       "70.50     1\n",
       "66.00     1\n",
       "23.50     1\n",
       "0.42      1\n",
       "Name: idade, dtype: int64"
      ]
     },
     "execution_count": 11,
     "metadata": {},
     "output_type": "execute_result"
    }
   ],
   "source": [
    "# Contagem por idade\n",
    "titanic['idade'].value_counts()"
   ]
  },
  {
   "cell_type": "markdown",
   "metadata": {},
   "source": [
    "Temos a resposta, mas a sequência é longa demais para termos um panorama. Vamos ver um histograma:"
   ]
  },
  {
   "cell_type": "code",
   "execution_count": 12,
   "metadata": {},
   "outputs": [
    {
     "name": "stderr",
     "output_type": "stream",
     "text": [
      "c:\\users\\rodolfoviana\\appdata\\python\\lib\\site-packages\\scipy\\stats\\stats.py:1713: FutureWarning: Using a non-tuple sequence for multidimensional indexing is deprecated; use `arr[tuple(seq)]` instead of `arr[seq]`. In the future this will be interpreted as an array index, `arr[np.array(seq)]`, which will result either in an error or a different result.\n",
      "  return np.add.reduce(sorted[indexer] * weights, axis=axis) / sumval\n"
     ]
    },
    {
     "data": {
      "image/png": "[encoded data removed]",
      "text/plain": [
       "<Figure size 1080x432 with 1 Axes>"
      ]
     },
     "metadata": {},
     "output_type": "display_data"
    }
   ],
   "source": [
    "# Remoção de valores nulos\n",
    "idade_valida = titanic[titanic['idade'].notnull()] # Sem isso, o histograma não funciona\n",
    "f, ax = plt.subplots(figsize = (15, 6)) # Definição de tamanho\n",
    "sns.distplot(idade_valida['idade'], bins=8); # Coloquei os dados em oito 'porções'"
   ]
  },
  {
   "cell_type": "markdown",
   "metadata": {},
   "source": [
    "Pelo gráfico notamos que mais de 30% dos passageiros tinham idades entre 20 e 30 anos; mais de 20% tinham entre 30 e 40 anos; pouco mais de 15% tinham entre 10 e 20 anos.\n",
    "\n",
    "Vamos cruzar `genero`e `idade`."
   ]
  },
  {
   "cell_type": "code",
   "execution_count": 13,
   "metadata": {},
   "outputs": [
    {
     "data": {
      "text/plain": [
       "idade  genero   \n",
       "0.42   Masculino     1\n",
       "0.67   Masculino     1\n",
       "0.75   Feminino      2\n",
       "0.83   Masculino     2\n",
       "0.92   Masculino     1\n",
       "1.00   Masculino     5\n",
       "       Feminino      2\n",
       "2.00   Feminino      6\n",
       "       Masculino     4\n",
       "3.00   Masculino     4\n",
       "       Feminino      2\n",
       "4.00   Feminino      5\n",
       "       Masculino     5\n",
       "5.00   Feminino      4\n",
       "6.00   Feminino      2\n",
       "       Masculino     1\n",
       "7.00   Masculino     2\n",
       "       Feminino      1\n",
       "8.00   Feminino      2\n",
       "       Masculino     2\n",
       "9.00   Feminino      4\n",
       "       Masculino     4\n",
       "10.00  Feminino      1\n",
       "       Masculino     1\n",
       "11.00  Masculino     3\n",
       "       Feminino      1\n",
       "12.00  Masculino     1\n",
       "13.00  Feminino      2\n",
       "14.00  Feminino      4\n",
       "       Masculino     2\n",
       "14.50  Feminino      1\n",
       "15.00  Feminino      4\n",
       "       Masculino     1\n",
       "16.00  Masculino    11\n",
       "       Feminino      6\n",
       "17.00  Masculino     7\n",
       "       Feminino      6\n",
       "18.00  Feminino     13\n",
       "       Masculino    13\n",
       "19.00  Masculino    18\n",
       "       Feminino      7\n",
       "20.00  Masculino    13\n",
       "       Feminino      2\n",
       "20.50  Masculino     1\n",
       "21.00  Masculino    17\n",
       "       Feminino      7\n",
       "22.00  Masculino    15\n",
       "       Feminino     12\n",
       "23.00  Masculino    10\n",
       "       Feminino      5\n",
       "23.50  Masculino     1\n",
       "24.00  Feminino     16\n",
       "       Masculino    14\n",
       "24.50  Masculino     1\n",
       "25.00  Masculino    18\n",
       "       Feminino      5\n",
       "26.00  Masculino    13\n",
       "       Feminino      5\n",
       "27.00  Masculino    12\n",
       "       Feminino      6\n",
       "28.00  Masculino    18\n",
       "       Feminino      7\n",
       "28.50  Masculino     2\n",
       "29.00  Masculino    13\n",
       "       Feminino      7\n",
       "30.00  Masculino    14\n",
       "       Feminino     11\n",
       "30.50  Feminino      1\n",
       "       Masculino     1\n",
       "31.00  Masculino    10\n",
       "       Feminino      7\n",
       "32.00  Masculino    15\n",
       "       Feminino      3\n",
       "32.50  Feminino      1\n",
       "       Masculino     1\n",
       "33.00  Masculino     9\n",
       "       Feminino      6\n",
       "34.00  Masculino    11\n",
       "       Feminino      4\n",
       "34.50  Masculino     1\n",
       "35.00  Masculino    10\n",
       "       Feminino      8\n",
       "36.00  Masculino    15\n",
       "       Feminino      7\n",
       "36.50  Masculino     1\n",
       "37.00  Masculino     5\n",
       "       Feminino      1\n",
       "38.00  Masculino     6\n",
       "       Feminino      5\n",
       "39.00  Masculino     8\n",
       "       Feminino      6\n",
       "40.00  Masculino     7\n",
       "       Feminino      6\n",
       "40.50  Masculino     2\n",
       "41.00  Feminino      4\n",
       "       Masculino     2\n",
       "42.00  Masculino    10\n",
       "       Feminino      3\n",
       "43.00  Masculino     3\n",
       "       Feminino      2\n",
       "44.00  Masculino     6\n",
       "       Feminino      3\n",
       "45.00  Feminino      6\n",
       "       Masculino     6\n",
       "45.50  Masculino     2\n",
       "46.00  Masculino     3\n",
       "47.00  Masculino     7\n",
       "       Feminino      2\n",
       "48.00  Masculino     5\n",
       "       Feminino      4\n",
       "49.00  Masculino     4\n",
       "       Feminino      2\n",
       "50.00  Feminino      5\n",
       "       Masculino     5\n",
       "51.00  Masculino     6\n",
       "       Feminino      1\n",
       "52.00  Masculino     4\n",
       "       Feminino      2\n",
       "53.00  Feminino      1\n",
       "54.00  Masculino     5\n",
       "       Feminino      3\n",
       "55.00  Feminino      1\n",
       "       Masculino     1\n",
       "55.50  Masculino     1\n",
       "56.00  Masculino     3\n",
       "       Feminino      1\n",
       "57.00  Feminino      1\n",
       "       Masculino     1\n",
       "58.00  Feminino      3\n",
       "       Masculino     2\n",
       "59.00  Masculino     2\n",
       "60.00  Masculino     3\n",
       "       Feminino      1\n",
       "61.00  Masculino     3\n",
       "62.00  Masculino     3\n",
       "       Feminino      1\n",
       "63.00  Feminino      2\n",
       "64.00  Masculino     2\n",
       "65.00  Masculino     3\n",
       "66.00  Masculino     1\n",
       "70.00  Masculino     2\n",
       "70.50  Masculino     1\n",
       "71.00  Masculino     2\n",
       "74.00  Masculino     1\n",
       "80.00  Masculino     1\n",
       "Name: genero, dtype: int64"
      ]
     },
     "execution_count": 13,
     "metadata": {},
     "output_type": "execute_result"
    }
   ],
   "source": [
    "# Agrupamento por `idade` e `genero`, e contagem\n",
    "titanic.groupby(['idade'])['genero'].value_counts()"
   ]
  },
  {
   "cell_type": "markdown",
   "metadata": {},
   "source": [
    "Como está complicado ver a lista toda, vamos apresentar em gráfico:"
   ]
  },
  {
   "cell_type": "code",
   "execution_count": 14,
   "metadata": {},
   "outputs": [
    {
     "data": {
      "image/png": "[encoded data removed]",
      "text/plain": [
       "<Figure size 1080x432 with 1 Axes>"
      ]
     },
     "metadata": {},
     "output_type": "display_data"
    }
   ],
   "source": [
    "# Criação do gráfico\n",
    "graf1 = titanic.groupby(['genero'])['idade'].value_counts() # Separamos por `genero`\n",
    "graf1 = pd.DataFrame(graf1).rename(columns = {'idade': 'quantidade'}).reset_index() # Transformamos em dataframe\n",
    "f, ax = plt.subplots(figsize = (15, 6))\n",
    "sns.scatterplot(x='idade', y='quantidade', hue='genero', data=graf1);"
   ]
  },
  {
   "cell_type": "markdown",
   "metadata": {},
   "source": [
    "Apesar de conseguirmos ter as idades por gênero, vamos categorizar por faixa etária. Isso facilita o trabalho:"
   ]
  },
  {
   "cell_type": "code",
   "execution_count": 15,
   "metadata": {},
   "outputs": [
    {
     "data": {
      "text/html": [
       "<div>\n",
       "<style scoped>\n",
       "    .dataframe tbody tr th:only-of-type {\n",
       "        vertical-align: middle;\n",
       "    }\n",
       "\n",
       "    .dataframe tbody tr th {\n",
       "        vertical-align: top;\n",
       "    }\n",
       "\n",
       "    .dataframe thead th {\n",
       "        text-align: right;\n",
       "    }\n",
       "</style>\n",
       "<table border=\"1\" class=\"dataframe\">\n",
       "  <thead>\n",
       "    <tr style=\"text-align: right;\">\n",
       "      <th>genero</th>\n",
       "      <th>Feminino</th>\n",
       "      <th>Masculino</th>\n",
       "    </tr>\n",
       "    <tr>\n",
       "      <th>estagio</th>\n",
       "      <th></th>\n",
       "      <th></th>\n",
       "    </tr>\n",
       "  </thead>\n",
       "  <tbody>\n",
       "    <tr>\n",
       "      <th>12 a 17 anos</th>\n",
       "      <td>23</td>\n",
       "      <td>22</td>\n",
       "    </tr>\n",
       "    <tr>\n",
       "      <th>18 a 29 anos</th>\n",
       "      <td>92</td>\n",
       "      <td>179</td>\n",
       "    </tr>\n",
       "    <tr>\n",
       "      <th>30 a 44 anos</th>\n",
       "      <td>78</td>\n",
       "      <td>137</td>\n",
       "    </tr>\n",
       "    <tr>\n",
       "      <th>45 a 59 anos</th>\n",
       "      <td>32</td>\n",
       "      <td>57</td>\n",
       "    </tr>\n",
       "    <tr>\n",
       "      <th>60 anos ou mais</th>\n",
       "      <td>4</td>\n",
       "      <td>22</td>\n",
       "    </tr>\n",
       "    <tr>\n",
       "      <th>Menos de 12 anos</th>\n",
       "      <td>32</td>\n",
       "      <td>36</td>\n",
       "    </tr>\n",
       "    <tr>\n",
       "      <th>Não informado</th>\n",
       "      <td>53</td>\n",
       "      <td>124</td>\n",
       "    </tr>\n",
       "  </tbody>\n",
       "</table>\n",
       "</div>"
      ],
      "text/plain": [
       "genero            Feminino  Masculino\n",
       "estagio                              \n",
       "12 a 17 anos            23         22\n",
       "18 a 29 anos            92        179\n",
       "30 a 44 anos            78        137\n",
       "45 a 59 anos            32         57\n",
       "60 anos ou mais          4         22\n",
       "Menos de 12 anos        32         36\n",
       "Não informado           53        124"
      ]
     },
     "execution_count": 15,
     "metadata": {},
     "output_type": "execute_result"
    }
   ],
   "source": [
    "# Criação de variável vazia\n",
    "estagio = []\n",
    "\n",
    "# Execução de `for loop` no dataset e anexação dos novos valores em `estagio`\n",
    "for x in titanic['idade']:\n",
    "    if x < 12:\n",
    "        estagio.append('Menos de 12 anos')\n",
    "    elif 12 <= x < 18:\n",
    "        estagio.append('12 a 17 anos')\n",
    "    elif 18 <= x < 30:\n",
    "        estagio.append('18 a 29 anos')\n",
    "    elif 30 <= x < 45:\n",
    "        estagio.append('30 a 44 anos')\n",
    "    elif 45 <= x < 60:\n",
    "        estagio.append('45 a 59 anos') \n",
    "    elif x >= 60:\n",
    "        estagio.append('60 anos ou mais')\n",
    "    else:\n",
    "        estagio.append('Não informado')\n",
    "\n",
    "# Designação de nova coluna com os valores de `estagio`\n",
    "titanic['estagio'] = estagio\n",
    "\n",
    "# Mudança de eixos da tabela para melhor visualização\n",
    "titanic.pivot_table(index=['estagio'], columns=['genero'], values='nome', aggfunc='count')"
   ]
  },
  {
   "cell_type": "markdown",
   "metadata": {},
   "source": [
    "Observamos a existência de:\n",
    "\n",
    "- 68 crianças (36 meninos e 32 meninas)\n",
    "- 45 adolescentes (22 garotos e 23 garotas)\n",
    "- 271 jovens adultos (179 homens e 92 mulheres)\n",
    "- 215 adultos até 44 anos (137 homens e 78 mulheres)\n",
    "- 89 adultos de 45 a 59 anos (57 homens e 32 mulheres)\n",
    "- 26 idosos (22 homens e 4 mulheres)\n",
    "- 177 sem idade informada (124 homens e 53 mulheres)\n",
    "\n",
    "Vamos ver quantos estavam viajando sozinhos e quantos estavam acompanhados:"
   ]
  },
  {
   "cell_type": "code",
   "execution_count": 16,
   "metadata": {},
   "outputs": [
    {
     "data": {
      "text/html": [
       "<div>\n",
       "<style scoped>\n",
       "    .dataframe tbody tr th:only-of-type {\n",
       "        vertical-align: middle;\n",
       "    }\n",
       "\n",
       "    .dataframe tbody tr th {\n",
       "        vertical-align: top;\n",
       "    }\n",
       "\n",
       "    .dataframe thead th {\n",
       "        text-align: right;\n",
       "    }\n",
       "</style>\n",
       "<table border=\"1\" class=\"dataframe\">\n",
       "  <thead>\n",
       "    <tr style=\"text-align: right;\">\n",
       "      <th>sozinho_acompanhado</th>\n",
       "      <th>Acompanhado</th>\n",
       "      <th>Sozinho</th>\n",
       "    </tr>\n",
       "    <tr>\n",
       "      <th>genero</th>\n",
       "      <th></th>\n",
       "      <th></th>\n",
       "    </tr>\n",
       "  </thead>\n",
       "  <tbody>\n",
       "    <tr>\n",
       "      <th>Feminino</th>\n",
       "      <td>188</td>\n",
       "      <td>126</td>\n",
       "    </tr>\n",
       "    <tr>\n",
       "      <th>Masculino</th>\n",
       "      <td>166</td>\n",
       "      <td>411</td>\n",
       "    </tr>\n",
       "  </tbody>\n",
       "</table>\n",
       "</div>"
      ],
      "text/plain": [
       "sozinho_acompanhado  Acompanhado  Sozinho\n",
       "genero                                   \n",
       "Feminino                     188      126\n",
       "Masculino                    166      411"
      ]
     },
     "execution_count": 16,
     "metadata": {},
     "output_type": "execute_result"
    }
   ],
   "source": [
    "# Definição de 'sozinho' ou 'acompanhado' a partir de `for loop` em duas colunas\n",
    "sozinho_acompanhado = []\n",
    "for x, y in zip(titanic['conjuge_irmaos'], titanic['pais_filhos']):\n",
    "    if x == 0 and y == 0:\n",
    "        sozinho_acompanhado.append('Sozinho')\n",
    "    else:\n",
    "        sozinho_acompanhado.append('Acompanhado')\n",
    "\n",
    "# Designação de nova coluna com os valores de `sozinho_acompanhado`\n",
    "titanic['sozinho_acompanhado'] = sozinho_acompanhado\n",
    "\n",
    "# Alteração de eixos\n",
    "titanic.pivot_table(index=['genero'], columns=['sozinho_acompanhado'], values='nome', aggfunc='count')"
   ]
  },
  {
   "cell_type": "markdown",
   "metadata": {},
   "source": [
    "Dos 577 homens, 411 viajavam sozinhos; 166 estavam acompanhados.\n",
    "\n",
    "Entre as 314 mulheres, 188 estavam acompanhadas; 126, sozinhas.\n",
    "\n",
    "Vejamos em que classe esses homens e mulheres estavam:"
   ]
  },
  {
   "cell_type": "code",
   "execution_count": 17,
   "metadata": {},
   "outputs": [
    {
     "data": {
      "text/plain": [
       "genero     classe\n",
       "Feminino   3         144\n",
       "           1          94\n",
       "           2          76\n",
       "Masculino  3         347\n",
       "           1         122\n",
       "           2         108\n",
       "Name: classe, dtype: int64"
      ]
     },
     "execution_count": 17,
     "metadata": {},
     "output_type": "execute_result"
    }
   ],
   "source": [
    "# Agrupamento por `genero` e contagem de `classe`\n",
    "titanic.groupby('genero')['classe'].value_counts()"
   ]
  },
  {
   "cell_type": "markdown",
   "metadata": {},
   "source": [
    "Vamos cruzar com `estagio`:"
   ]
  },
  {
   "cell_type": "code",
   "execution_count": 18,
   "metadata": {},
   "outputs": [
    {
     "data": {
      "text/plain": [
       "classe  estagio         \n",
       "1       30 a 44 anos         64\n",
       "        45 a 59 anos         50\n",
       "        18 a 29 anos         43\n",
       "        Não informado        30\n",
       "        60 anos ou mais      17\n",
       "        12 a 17 anos          8\n",
       "        Menos de 12 anos      4\n",
       "2       18 a 29 anos         65\n",
       "        30 a 44 anos         60\n",
       "        45 a 59 anos         21\n",
       "        Menos de 12 anos     17\n",
       "        Não informado        11\n",
       "        12 a 17 anos          6\n",
       "        60 anos ou mais       4\n",
       "3       18 a 29 anos        163\n",
       "        Não informado       136\n",
       "        30 a 44 anos         91\n",
       "        Menos de 12 anos     47\n",
       "        12 a 17 anos         31\n",
       "        45 a 59 anos         18\n",
       "        60 anos ou mais       5\n",
       "Name: estagio, dtype: int64"
      ]
     },
     "execution_count": 18,
     "metadata": {},
     "output_type": "execute_result"
    }
   ],
   "source": [
    "# Agrupamento por `classe` e contagem de `estagio`\n",
    "titanic.groupby('classe')['estagio'].value_counts()"
   ]
  },
  {
   "cell_type": "markdown",
   "metadata": {},
   "source": [
    "Encontramos algo interessante: a maioria dos idosos (passageiros com 60 anos ou mais) viajava de primeira classe. \n",
    "\n",
    "Entre os adultos (passageiros de 30 a 59 anos), também é grande a proporção daqueles que viajavam na primeira classe.\n",
    "\n",
    "Vejamos quanto custou a passagem de acordo com a classe, em média:"
   ]
  },
  {
   "cell_type": "code",
   "execution_count": 19,
   "metadata": {},
   "outputs": [
    {
     "data": {
      "text/html": [
       "<div>\n",
       "<style scoped>\n",
       "    .dataframe tbody tr th:only-of-type {\n",
       "        vertical-align: middle;\n",
       "    }\n",
       "\n",
       "    .dataframe tbody tr th {\n",
       "        vertical-align: top;\n",
       "    }\n",
       "\n",
       "    .dataframe thead th {\n",
       "        text-align: right;\n",
       "    }\n",
       "</style>\n",
       "<table border=\"1\" class=\"dataframe\">\n",
       "  <thead>\n",
       "    <tr style=\"text-align: right;\">\n",
       "      <th></th>\n",
       "      <th>count</th>\n",
       "      <th>mean</th>\n",
       "      <th>std</th>\n",
       "      <th>min</th>\n",
       "      <th>25%</th>\n",
       "      <th>50%</th>\n",
       "      <th>75%</th>\n",
       "      <th>max</th>\n",
       "    </tr>\n",
       "    <tr>\n",
       "      <th>classe</th>\n",
       "      <th></th>\n",
       "      <th></th>\n",
       "      <th></th>\n",
       "      <th></th>\n",
       "      <th></th>\n",
       "      <th></th>\n",
       "      <th></th>\n",
       "      <th></th>\n",
       "    </tr>\n",
       "  </thead>\n",
       "  <tbody>\n",
       "    <tr>\n",
       "      <th>1</th>\n",
       "      <td>216.0</td>\n",
       "      <td>84.154687</td>\n",
       "      <td>78.380373</td>\n",
       "      <td>0.0</td>\n",
       "      <td>30.92395</td>\n",
       "      <td>60.2875</td>\n",
       "      <td>93.5</td>\n",
       "      <td>512.3292</td>\n",
       "    </tr>\n",
       "    <tr>\n",
       "      <th>2</th>\n",
       "      <td>184.0</td>\n",
       "      <td>20.662183</td>\n",
       "      <td>13.417399</td>\n",
       "      <td>0.0</td>\n",
       "      <td>13.00000</td>\n",
       "      <td>14.2500</td>\n",
       "      <td>26.0</td>\n",
       "      <td>73.5000</td>\n",
       "    </tr>\n",
       "    <tr>\n",
       "      <th>3</th>\n",
       "      <td>491.0</td>\n",
       "      <td>13.675550</td>\n",
       "      <td>11.778142</td>\n",
       "      <td>0.0</td>\n",
       "      <td>7.75000</td>\n",
       "      <td>8.0500</td>\n",
       "      <td>15.5</td>\n",
       "      <td>69.5500</td>\n",
       "    </tr>\n",
       "  </tbody>\n",
       "</table>\n",
       "</div>"
      ],
      "text/plain": [
       "        count       mean        std  min       25%      50%   75%       max\n",
       "classe                                                                     \n",
       "1       216.0  84.154687  78.380373  0.0  30.92395  60.2875  93.5  512.3292\n",
       "2       184.0  20.662183  13.417399  0.0  13.00000  14.2500  26.0   73.5000\n",
       "3       491.0  13.675550  11.778142  0.0   7.75000   8.0500  15.5   69.5500"
      ]
     },
     "execution_count": 19,
     "metadata": {},
     "output_type": "execute_result"
    }
   ],
   "source": [
    "# Agrupamento por `classe` e descrição de `valor`\n",
    "titanic.groupby('classe')['valor'].describe()"
   ]
  },
  {
   "cell_type": "markdown",
   "metadata": {},
   "source": [
    "Os resultados mostram os seguintes valores médios:\n",
    "\n",
    "- primeira classe: 84,15\n",
    "- segunda classe: 20,66\n",
    "- terceira classe: 13,67\n",
    "\n",
    "Também há indicação de que, em todas as classes, houve passageiro viajando de graça. Vamos ver quem:"
   ]
  },
  {
   "cell_type": "code",
   "execution_count": 20,
   "metadata": {},
   "outputs": [
    {
     "data": {
      "text/html": [
       "<div>\n",
       "<style scoped>\n",
       "    .dataframe tbody tr th:only-of-type {\n",
       "        vertical-align: middle;\n",
       "    }\n",
       "\n",
       "    .dataframe tbody tr th {\n",
       "        vertical-align: top;\n",
       "    }\n",
       "\n",
       "    .dataframe thead th {\n",
       "        text-align: right;\n",
       "    }\n",
       "</style>\n",
       "<table border=\"1\" class=\"dataframe\">\n",
       "  <thead>\n",
       "    <tr style=\"text-align: right;\">\n",
       "      <th></th>\n",
       "      <th>id</th>\n",
       "      <th>status_sobrevivencia</th>\n",
       "      <th>classe</th>\n",
       "      <th>nome</th>\n",
       "      <th>genero</th>\n",
       "      <th>idade</th>\n",
       "      <th>conjuge_irmaos</th>\n",
       "      <th>pais_filhos</th>\n",
       "      <th>passagem</th>\n",
       "      <th>valor</th>\n",
       "      <th>cabine</th>\n",
       "      <th>porto_origem</th>\n",
       "      <th>estagio</th>\n",
       "      <th>sozinho_acompanhado</th>\n",
       "    </tr>\n",
       "  </thead>\n",
       "  <tbody>\n",
       "    <tr>\n",
       "      <th>179</th>\n",
       "      <td>180</td>\n",
       "      <td>Não</td>\n",
       "      <td>3</td>\n",
       "      <td>Leonard, Mr. Lionel</td>\n",
       "      <td>Masculino</td>\n",
       "      <td>36.0</td>\n",
       "      <td>0</td>\n",
       "      <td>0</td>\n",
       "      <td>LINE</td>\n",
       "      <td>0.0</td>\n",
       "      <td>NaN</td>\n",
       "      <td>Southampton</td>\n",
       "      <td>30 a 44 anos</td>\n",
       "      <td>Sozinho</td>\n",
       "    </tr>\n",
       "    <tr>\n",
       "      <th>263</th>\n",
       "      <td>264</td>\n",
       "      <td>Não</td>\n",
       "      <td>1</td>\n",
       "      <td>Harrison, Mr. William</td>\n",
       "      <td>Masculino</td>\n",
       "      <td>40.0</td>\n",
       "      <td>0</td>\n",
       "      <td>0</td>\n",
       "      <td>112059</td>\n",
       "      <td>0.0</td>\n",
       "      <td>B94</td>\n",
       "      <td>Southampton</td>\n",
       "      <td>30 a 44 anos</td>\n",
       "      <td>Sozinho</td>\n",
       "    </tr>\n",
       "    <tr>\n",
       "      <th>271</th>\n",
       "      <td>272</td>\n",
       "      <td>Sim</td>\n",
       "      <td>3</td>\n",
       "      <td>Tornquist, Mr. William Henry</td>\n",
       "      <td>Masculino</td>\n",
       "      <td>25.0</td>\n",
       "      <td>0</td>\n",
       "      <td>0</td>\n",
       "      <td>LINE</td>\n",
       "      <td>0.0</td>\n",
       "      <td>NaN</td>\n",
       "      <td>Southampton</td>\n",
       "      <td>18 a 29 anos</td>\n",
       "      <td>Sozinho</td>\n",
       "    </tr>\n",
       "    <tr>\n",
       "      <th>277</th>\n",
       "      <td>278</td>\n",
       "      <td>Não</td>\n",
       "      <td>2</td>\n",
       "      <td>Parkes, Mr. Francis \"Frank\"</td>\n",
       "      <td>Masculino</td>\n",
       "      <td>NaN</td>\n",
       "      <td>0</td>\n",
       "      <td>0</td>\n",
       "      <td>239853</td>\n",
       "      <td>0.0</td>\n",
       "      <td>NaN</td>\n",
       "      <td>Southampton</td>\n",
       "      <td>Não informado</td>\n",
       "      <td>Sozinho</td>\n",
       "    </tr>\n",
       "    <tr>\n",
       "      <th>302</th>\n",
       "      <td>303</td>\n",
       "      <td>Não</td>\n",
       "      <td>3</td>\n",
       "      <td>Johnson, Mr. William Cahoone Jr</td>\n",
       "      <td>Masculino</td>\n",
       "      <td>19.0</td>\n",
       "      <td>0</td>\n",
       "      <td>0</td>\n",
       "      <td>LINE</td>\n",
       "      <td>0.0</td>\n",
       "      <td>NaN</td>\n",
       "      <td>Southampton</td>\n",
       "      <td>18 a 29 anos</td>\n",
       "      <td>Sozinho</td>\n",
       "    </tr>\n",
       "    <tr>\n",
       "      <th>413</th>\n",
       "      <td>414</td>\n",
       "      <td>Não</td>\n",
       "      <td>2</td>\n",
       "      <td>Cunningham, Mr. Alfred Fleming</td>\n",
       "      <td>Masculino</td>\n",
       "      <td>NaN</td>\n",
       "      <td>0</td>\n",
       "      <td>0</td>\n",
       "      <td>239853</td>\n",
       "      <td>0.0</td>\n",
       "      <td>NaN</td>\n",
       "      <td>Southampton</td>\n",
       "      <td>Não informado</td>\n",
       "      <td>Sozinho</td>\n",
       "    </tr>\n",
       "    <tr>\n",
       "      <th>466</th>\n",
       "      <td>467</td>\n",
       "      <td>Não</td>\n",
       "      <td>2</td>\n",
       "      <td>Campbell, Mr. William</td>\n",
       "      <td>Masculino</td>\n",
       "      <td>NaN</td>\n",
       "      <td>0</td>\n",
       "      <td>0</td>\n",
       "      <td>239853</td>\n",
       "      <td>0.0</td>\n",
       "      <td>NaN</td>\n",
       "      <td>Southampton</td>\n",
       "      <td>Não informado</td>\n",
       "      <td>Sozinho</td>\n",
       "    </tr>\n",
       "    <tr>\n",
       "      <th>481</th>\n",
       "      <td>482</td>\n",
       "      <td>Não</td>\n",
       "      <td>2</td>\n",
       "      <td>Frost, Mr. Anthony Wood \"Archie\"</td>\n",
       "      <td>Masculino</td>\n",
       "      <td>NaN</td>\n",
       "      <td>0</td>\n",
       "      <td>0</td>\n",
       "      <td>239854</td>\n",
       "      <td>0.0</td>\n",
       "      <td>NaN</td>\n",
       "      <td>Southampton</td>\n",
       "      <td>Não informado</td>\n",
       "      <td>Sozinho</td>\n",
       "    </tr>\n",
       "    <tr>\n",
       "      <th>597</th>\n",
       "      <td>598</td>\n",
       "      <td>Não</td>\n",
       "      <td>3</td>\n",
       "      <td>Johnson, Mr. Alfred</td>\n",
       "      <td>Masculino</td>\n",
       "      <td>49.0</td>\n",
       "      <td>0</td>\n",
       "      <td>0</td>\n",
       "      <td>LINE</td>\n",
       "      <td>0.0</td>\n",
       "      <td>NaN</td>\n",
       "      <td>Southampton</td>\n",
       "      <td>45 a 59 anos</td>\n",
       "      <td>Sozinho</td>\n",
       "    </tr>\n",
       "    <tr>\n",
       "      <th>633</th>\n",
       "      <td>634</td>\n",
       "      <td>Não</td>\n",
       "      <td>1</td>\n",
       "      <td>Parr, Mr. William Henry Marsh</td>\n",
       "      <td>Masculino</td>\n",
       "      <td>NaN</td>\n",
       "      <td>0</td>\n",
       "      <td>0</td>\n",
       "      <td>112052</td>\n",
       "      <td>0.0</td>\n",
       "      <td>NaN</td>\n",
       "      <td>Southampton</td>\n",
       "      <td>Não informado</td>\n",
       "      <td>Sozinho</td>\n",
       "    </tr>\n",
       "    <tr>\n",
       "      <th>674</th>\n",
       "      <td>675</td>\n",
       "      <td>Não</td>\n",
       "      <td>2</td>\n",
       "      <td>Watson, Mr. Ennis Hastings</td>\n",
       "      <td>Masculino</td>\n",
       "      <td>NaN</td>\n",
       "      <td>0</td>\n",
       "      <td>0</td>\n",
       "      <td>239856</td>\n",
       "      <td>0.0</td>\n",
       "      <td>NaN</td>\n",
       "      <td>Southampton</td>\n",
       "      <td>Não informado</td>\n",
       "      <td>Sozinho</td>\n",
       "    </tr>\n",
       "    <tr>\n",
       "      <th>732</th>\n",
       "      <td>733</td>\n",
       "      <td>Não</td>\n",
       "      <td>2</td>\n",
       "      <td>Knight, Mr. Robert J</td>\n",
       "      <td>Masculino</td>\n",
       "      <td>NaN</td>\n",
       "      <td>0</td>\n",
       "      <td>0</td>\n",
       "      <td>239855</td>\n",
       "      <td>0.0</td>\n",
       "      <td>NaN</td>\n",
       "      <td>Southampton</td>\n",
       "      <td>Não informado</td>\n",
       "      <td>Sozinho</td>\n",
       "    </tr>\n",
       "    <tr>\n",
       "      <th>806</th>\n",
       "      <td>807</td>\n",
       "      <td>Não</td>\n",
       "      <td>1</td>\n",
       "      <td>Andrews, Mr. Thomas Jr</td>\n",
       "      <td>Masculino</td>\n",
       "      <td>39.0</td>\n",
       "      <td>0</td>\n",
       "      <td>0</td>\n",
       "      <td>112050</td>\n",
       "      <td>0.0</td>\n",
       "      <td>A36</td>\n",
       "      <td>Southampton</td>\n",
       "      <td>30 a 44 anos</td>\n",
       "      <td>Sozinho</td>\n",
       "    </tr>\n",
       "    <tr>\n",
       "      <th>815</th>\n",
       "      <td>816</td>\n",
       "      <td>Não</td>\n",
       "      <td>1</td>\n",
       "      <td>Fry, Mr. Richard</td>\n",
       "      <td>Masculino</td>\n",
       "      <td>NaN</td>\n",
       "      <td>0</td>\n",
       "      <td>0</td>\n",
       "      <td>112058</td>\n",
       "      <td>0.0</td>\n",
       "      <td>B102</td>\n",
       "      <td>Southampton</td>\n",
       "      <td>Não informado</td>\n",
       "      <td>Sozinho</td>\n",
       "    </tr>\n",
       "    <tr>\n",
       "      <th>822</th>\n",
       "      <td>823</td>\n",
       "      <td>Não</td>\n",
       "      <td>1</td>\n",
       "      <td>Reuchlin, Jonkheer. John George</td>\n",
       "      <td>Masculino</td>\n",
       "      <td>38.0</td>\n",
       "      <td>0</td>\n",
       "      <td>0</td>\n",
       "      <td>19972</td>\n",
       "      <td>0.0</td>\n",
       "      <td>NaN</td>\n",
       "      <td>Southampton</td>\n",
       "      <td>30 a 44 anos</td>\n",
       "      <td>Sozinho</td>\n",
       "    </tr>\n",
       "  </tbody>\n",
       "</table>\n",
       "</div>"
      ],
      "text/plain": [
       "      id status_sobrevivencia  classe                              nome  \\\n",
       "179  180                  Não       3               Leonard, Mr. Lionel   \n",
       "263  264                  Não       1             Harrison, Mr. William   \n",
       "271  272                  Sim       3      Tornquist, Mr. William Henry   \n",
       "277  278                  Não       2       Parkes, Mr. Francis \"Frank\"   \n",
       "302  303                  Não       3   Johnson, Mr. William Cahoone Jr   \n",
       "413  414                  Não       2    Cunningham, Mr. Alfred Fleming   \n",
       "466  467                  Não       2             Campbell, Mr. William   \n",
       "481  482                  Não       2  Frost, Mr. Anthony Wood \"Archie\"   \n",
       "597  598                  Não       3               Johnson, Mr. Alfred   \n",
       "633  634                  Não       1     Parr, Mr. William Henry Marsh   \n",
       "674  675                  Não       2        Watson, Mr. Ennis Hastings   \n",
       "732  733                  Não       2              Knight, Mr. Robert J   \n",
       "806  807                  Não       1            Andrews, Mr. Thomas Jr   \n",
       "815  816                  Não       1                  Fry, Mr. Richard   \n",
       "822  823                  Não       1   Reuchlin, Jonkheer. John George   \n",
       "\n",
       "        genero  idade  conjuge_irmaos  pais_filhos passagem  valor cabine  \\\n",
       "179  Masculino   36.0               0            0     LINE    0.0    NaN   \n",
       "263  Masculino   40.0               0            0   112059    0.0    B94   \n",
       "271  Masculino   25.0               0            0     LINE    0.0    NaN   \n",
       "277  Masculino    NaN               0            0   239853    0.0    NaN   \n",
       "302  Masculino   19.0               0            0     LINE    0.0    NaN   \n",
       "413  Masculino    NaN               0            0   239853    0.0    NaN   \n",
       "466  Masculino    NaN               0            0   239853    0.0    NaN   \n",
       "481  Masculino    NaN               0            0   239854    0.0    NaN   \n",
       "597  Masculino   49.0               0            0     LINE    0.0    NaN   \n",
       "633  Masculino    NaN               0            0   112052    0.0    NaN   \n",
       "674  Masculino    NaN               0            0   239856    0.0    NaN   \n",
       "732  Masculino    NaN               0            0   239855    0.0    NaN   \n",
       "806  Masculino   39.0               0            0   112050    0.0    A36   \n",
       "815  Masculino    NaN               0            0   112058    0.0   B102   \n",
       "822  Masculino   38.0               0            0    19972    0.0    NaN   \n",
       "\n",
       "    porto_origem        estagio sozinho_acompanhado  \n",
       "179  Southampton   30 a 44 anos             Sozinho  \n",
       "263  Southampton   30 a 44 anos             Sozinho  \n",
       "271  Southampton   18 a 29 anos             Sozinho  \n",
       "277  Southampton  Não informado             Sozinho  \n",
       "302  Southampton   18 a 29 anos             Sozinho  \n",
       "413  Southampton  Não informado             Sozinho  \n",
       "466  Southampton  Não informado             Sozinho  \n",
       "481  Southampton  Não informado             Sozinho  \n",
       "597  Southampton   45 a 59 anos             Sozinho  \n",
       "633  Southampton  Não informado             Sozinho  \n",
       "674  Southampton  Não informado             Sozinho  \n",
       "732  Southampton  Não informado             Sozinho  \n",
       "806  Southampton   30 a 44 anos             Sozinho  \n",
       "815  Southampton  Não informado             Sozinho  \n",
       "822  Southampton   30 a 44 anos             Sozinho  "
      ]
     },
     "execution_count": 20,
     "metadata": {},
     "output_type": "execute_result"
    }
   ],
   "source": [
    "# Subagrupamento de linhas com `valor` igual a zero\n",
    "titanic[titanic['valor'] == 0]"
   ]
  },
  {
   "cell_type": "markdown",
   "metadata": {},
   "source": [
    "Todos os passageiros que viajaram de graça eram homens, sozinhos, e embarcaram em Southampton.\n",
    "\n",
    "Voltando aos pagantes, vejamos em gráfico como fica a distribuição de valores:"
   ]
  },
  {
   "cell_type": "code",
   "execution_count": 21,
   "metadata": {},
   "outputs": [
    {
     "data": {
      "image/png": "[encoded data removed]",
      "text/plain": [
       "<Figure size 1080x432 with 1 Axes>"
      ]
     },
     "metadata": {},
     "output_type": "display_data"
    }
   ],
   "source": [
    "f, ax = plt.subplots(figsize = (15, 6))\n",
    "\n",
    "# Criação do gráfico com todos os valores\n",
    "sns.stripplot(x='classe', \n",
    "              y='valor', \n",
    "              hue='classe', \n",
    "              data=titanic, \n",
    "              jitter=True, \n",
    "              alpha=.25, \n",
    "              zorder=1)\n",
    "\n",
    "# Criação do gráfico com apenas o quadrado de valor médio\n",
    "sns.pointplot(x='classe', \n",
    "              y='valor', \n",
    "              hue='classe', \n",
    "              data=titanic, \n",
    "              jitter=True, \n",
    "              alpha=.25, \n",
    "              zorder=1, \n",
    "              join=False,\n",
    "              palette='dark', \n",
    "              markers='s', \n",
    "              scale=.75, \n",
    "              ci=None)\n",
    "\n",
    "# Organização de legenda\n",
    "handles, labels = ax.get_legend_handles_labels()\n",
    "ax.legend(handles[:3], \n",
    "          labels[:3], \n",
    "          handletextpad=0, \n",
    "          columnspacing=1, \n",
    "          ncol=3, \n",
    "          frameon=True);"
   ]
  },
  {
   "cell_type": "markdown",
   "metadata": {},
   "source": [
    "### Pergunta 2: _Quem morreu no Titanic? E quem sobreviveu?_\n",
    "\n",
    "Uma simples análise descritiva das vítimas fatais, e de quem saiu vivo.\n",
    "\n",
    "Vamos começar por `genero`:"
   ]
  },
  {
   "cell_type": "code",
   "execution_count": 22,
   "metadata": {},
   "outputs": [
    {
     "data": {
      "text/plain": [
       "genero     status_sobrevivencia\n",
       "Feminino   Sim                     233\n",
       "           Não                      81\n",
       "Masculino  Não                     468\n",
       "           Sim                     109\n",
       "Name: status_sobrevivencia, dtype: int64"
      ]
     },
     "execution_count": 22,
     "metadata": {},
     "output_type": "execute_result"
    }
   ],
   "source": [
    "# Agrupamento por `genero` e contagem de cada valor de `status_sobrevivencia`\n",
    "titanic.groupby('genero')['status_sobrevivencia'].value_counts()"
   ]
  },
  {
   "cell_type": "code",
   "execution_count": 23,
   "metadata": {},
   "outputs": [
    {
     "data": {
      "text/plain": [
       "genero     status_sobrevivencia\n",
       "Feminino   Sim                     0.742038\n",
       "           Não                     0.257962\n",
       "Masculino  Não                     0.811092\n",
       "           Sim                     0.188908\n",
       "Name: status_sobrevivencia, dtype: float64"
      ]
     },
     "execution_count": 23,
     "metadata": {},
     "output_type": "execute_result"
    }
   ],
   "source": [
    "# Agrupamento por `genero` e percentual de cada valor de `status_sobrevivencia`\n",
    "titanic.groupby('genero')['status_sobrevivencia'].value_counts(normalize=True)"
   ]
  },
  {
   "cell_type": "markdown",
   "metadata": {},
   "source": [
    "Temos registros de 314 mulheres no Titanic. Dessas, 233 sobreviveram -- ou seja, 74,2% do total de passageiros do sexo feminino.\n",
    "\n",
    "Quanto aos homens, temos 577 sujeitos, dos quais 109 sobreviveram -- 18,9% do total do gênero masculino.\n",
    "\n",
    "Vamos ver em gráfico:"
   ]
  },
  {
   "cell_type": "code",
   "execution_count": 24,
   "metadata": {},
   "outputs": [
    {
     "data": {
      "image/png": "[encoded data removed]",
      "text/plain": [
       "<Figure size 1080x432 with 1 Axes>"
      ]
     },
     "metadata": {},
     "output_type": "display_data"
    }
   ],
   "source": [
    "# Criação da coluna `total_genero`\n",
    "titanic['total_genero'] = titanic.groupby(['genero'])['genero'].transform('count') # Esta coluna é para ser usada no gráfico\n",
    "\n",
    "# Agrupamento por `genero` e `total_genero`, e contagem dos valores em `status_sobrevivencia`\n",
    "genero_sobrev = titanic.groupby(['genero', 'total_genero'])['status_sobrevivencia'].value_counts()\n",
    "\n",
    "# Conversão em dataframe com coluna renomeada para `quantidade`\n",
    "genero_sobrev = pd.DataFrame(genero_sobrev).rename(columns = {'status_sobrevivencia': 'quantidade'}).reset_index()\n",
    "\n",
    "# Separação dos valores 'Sim' em `status_sobrevivencia`\n",
    "genero_sobrev_sim = genero_sobrev[genero_sobrev['status_sobrevivencia'] == 'Sim']\n",
    "\n",
    "# Definição do tamanho do gráfico\n",
    "f, ax = plt.subplots(figsize = (15, 6))\n",
    "\n",
    "# Definição da barra em segundo plano\n",
    "sns.set_color_codes('pastel') # Cor\n",
    "sns.barplot(x = 'total_genero',\n",
    "            y = 'genero', \n",
    "            data = genero_sobrev_sim,\n",
    "            label = 'Não sobreviventes', \n",
    "            color = 'r', \n",
    "            ci = None)\n",
    "\n",
    "# Definição da barra em primeiro plano\n",
    "sns.set_color_codes('muted')\n",
    "sns.barplot(x = 'quantidade', \n",
    "            y = 'genero', \n",
    "            data = genero_sobrev_sim,\n",
    "            label = 'Sobreviventes', \n",
    "            color = 'r', \n",
    "            ci = None)\n",
    "\n",
    "# Posicionamento da legenda\n",
    "ax.legend(ncol = 2, \n",
    "          loc = 'upper right', \n",
    "          frameon = True)\n",
    "\n",
    "# Delimitação do eixo x e liquidação das labels\n",
    "ax.set(xlim = (0, 600), \n",
    "       ylabel = '',\n",
    "       xlabel = '');"
   ]
  },
  {
   "cell_type": "markdown",
   "metadata": {},
   "source": [
    "Vejamos as faixas etárias de quem sobreviveu e de quem morreu:"
   ]
  },
  {
   "cell_type": "code",
   "execution_count": 25,
   "metadata": {},
   "outputs": [
    {
     "data": {
      "text/plain": [
       "estagio           status_sobrevivencia\n",
       "12 a 17 anos      Não                      23\n",
       "                  Sim                      22\n",
       "18 a 29 anos      Não                     176\n",
       "                  Sim                      95\n",
       "30 a 44 anos      Não                     124\n",
       "                  Sim                      91\n",
       "45 a 59 anos      Não                      53\n",
       "                  Sim                      36\n",
       "60 anos ou mais   Não                      19\n",
       "                  Sim                       7\n",
       "Menos de 12 anos  Sim                      39\n",
       "                  Não                      29\n",
       "Não informado     Não                     125\n",
       "                  Sim                      52\n",
       "Name: status_sobrevivencia, dtype: int64"
      ]
     },
     "execution_count": 25,
     "metadata": {},
     "output_type": "execute_result"
    }
   ],
   "source": [
    "# Agrupamento por `estagio` e contagem de `status_sobrevivencia`\n",
    "titanic.groupby('estagio')['status_sobrevivencia'].value_counts()"
   ]
  },
  {
   "cell_type": "markdown",
   "metadata": {},
   "source": [
    "Vamos ver um gráfico disso:"
   ]
  },
  {
   "cell_type": "code",
   "execution_count": 26,
   "metadata": {},
   "outputs": [
    {
     "data": {
      "image/png": "[encoded data removed]",
      "text/plain": [
       "<Figure size 1080x432 with 1 Axes>"
      ]
     },
     "metadata": {},
     "output_type": "display_data"
    }
   ],
   "source": [
    "titanic['total_faixa'] = titanic.groupby(['estagio'])['estagio'].transform('count')\n",
    "faixa_sobrev = titanic.groupby(['estagio', 'total_faixa'])['status_sobrevivencia'].value_counts()\n",
    "faixa_sobrev = pd.DataFrame(faixa_sobrev).rename(columns = {'status_sobrevivencia': 'quantidade'}).reset_index()\n",
    "faixa_sobrev_sim = faixa_sobrev[faixa_sobrev['status_sobrevivencia'] == 'Sim']\n",
    "f, ax = plt.subplots(figsize = (15, 6))\n",
    "sns.set_color_codes('pastel')\n",
    "sns.barplot(x = 'total_faixa', \n",
    "            y = 'estagio', \n",
    "            data = faixa_sobrev_sim,\n",
    "            label = 'Não sobreviventes', \n",
    "            color = 'r', \n",
    "            ci = None)\n",
    "sns.set_color_codes('muted')\n",
    "sns.barplot(x = 'quantidade', \n",
    "            y = 'estagio', \n",
    "            data = faixa_sobrev_sim,\n",
    "            label = 'Sobreviventes', \n",
    "            color = 'r', \n",
    "            ci = None)\n",
    "ax.legend(ncol = 2, \n",
    "          loc = 'upper right', \n",
    "          frameon = True)\n",
    "ax.set(xlim = (0, 300), \n",
    "       ylabel = '',\n",
    "       xlabel = '');"
   ]
  },
  {
   "cell_type": "markdown",
   "metadata": {},
   "source": [
    "O mesmo gráfico, mas com percentual:"
   ]
  },
  {
   "cell_type": "code",
   "execution_count": 27,
   "metadata": {},
   "outputs": [
    {
     "data": {
      "image/png": "[encoded data removed]",
      "text/plain": [
       "<Figure size 1080x432 with 1 Axes>"
      ]
     },
     "metadata": {},
     "output_type": "display_data"
    }
   ],
   "source": [
    "titanic['total_faixa'] = titanic.groupby(['estagio'])['estagio'].transform('count')\n",
    "faixa_sobrev = titanic.groupby(['estagio', 'total_faixa'])['status_sobrevivencia'].value_counts(normalize=True)\n",
    "faixa_sobrev = pd.DataFrame(faixa_sobrev).rename(columns = {'status_sobrevivencia': 'quantidade'}).reset_index()\n",
    "faixa_sobrev_sim = faixa_sobrev[faixa_sobrev['status_sobrevivencia'] == 'Sim']\n",
    "f, ax = plt.subplots(figsize = (15, 6))\n",
    "sns.set_color_codes('pastel')\n",
    "sns.barplot(x = 'total_faixa', \n",
    "            y = 'estagio', \n",
    "            data = faixa_sobrev_sim,\n",
    "            label = 'Não sobreviventes', \n",
    "            color = 'r', \n",
    "            ci = None)\n",
    "sns.set_color_codes('muted')\n",
    "sns.barplot(x = 'quantidade', \n",
    "            y = 'estagio', \n",
    "            data = faixa_sobrev_sim,\n",
    "            label = 'Sobreviventes', \n",
    "            color = 'r', \n",
    "            ci = None)\n",
    "ax.legend(ncol = 2, \n",
    "          loc = 'upper right', \n",
    "          frameon = True)\n",
    "ax.set(xlim = (0, 1), \n",
    "       ylabel = '',\n",
    "       xlabel = '')\n",
    "sns.despine(left=True, bottom=True)"
   ]
  },
  {
   "cell_type": "markdown",
   "metadata": {},
   "source": [
    "Vejamos em quais classes estavam os passageiros para ver se há prevalência de sobreviventes em alguma delas:"
   ]
  },
  {
   "cell_type": "code",
   "execution_count": 28,
   "metadata": {},
   "outputs": [
    {
     "data": {
      "text/plain": [
       "classe  status_sobrevivencia\n",
       "1       Sim                     136\n",
       "        Não                      80\n",
       "2       Não                      97\n",
       "        Sim                      87\n",
       "3       Não                     372\n",
       "        Sim                     119\n",
       "Name: status_sobrevivencia, dtype: int64"
      ]
     },
     "execution_count": 28,
     "metadata": {},
     "output_type": "execute_result"
    }
   ],
   "source": [
    "titanic.groupby('classe')['status_sobrevivencia'].value_counts()"
   ]
  },
  {
   "cell_type": "markdown",
   "metadata": {},
   "source": [
    "Notadamente há maior proporção de sobreviventes da primeira classe do que na segunda e na terceira. Vejamos em termos percentuais:"
   ]
  },
  {
   "cell_type": "code",
   "execution_count": 29,
   "metadata": {},
   "outputs": [
    {
     "data": {
      "text/plain": [
       "classe  status_sobrevivencia\n",
       "1       Sim                     0.629630\n",
       "        Não                     0.370370\n",
       "2       Não                     0.527174\n",
       "        Sim                     0.472826\n",
       "3       Não                     0.757637\n",
       "        Sim                     0.242363\n",
       "Name: status_sobrevivencia, dtype: float64"
      ]
     },
     "execution_count": 29,
     "metadata": {},
     "output_type": "execute_result"
    }
   ],
   "source": [
    "titanic.groupby('classe')['status_sobrevivencia'].value_counts(normalize=True)"
   ]
  },
  {
   "cell_type": "markdown",
   "metadata": {},
   "source": [
    "Temos:\n",
    "\n",
    "- 62,96% dos passageiros da primeira classe sobreviveram;\n",
    "- 47,28% dos da segunda classe;\n",
    "- 24,23% dos da terceira classe."
   ]
  },
  {
   "cell_type": "markdown",
   "metadata": {},
   "source": [
    "---\n",
    "**Leituras**\n",
    "\n",
    "`pd.set_option`: [Options and settings](https://pandas.pydata.org/pandas-docs/stable/options.html), na documentação do Pandas<br>\n",
    "`sns.set`: [seaborn.set](https://seaborn.pydata.org/generated/seaborn.set.html), na documentação do Seaborn<br>\n",
    "`pd.series.map`: [Remap values in pandas column with a dict](https://stackoverflow.com/a/41678874), no Stack Overflow; [Pandas series map](https://pandas.pydata.org/pandas-docs/stable/generated/pandas.Series.map.html), na documentação do Pandas<br>\n",
    "`pd.dataframe.pivot_table`: [Pandas dataframe pivot_table](https://pandas.pydata.org/pandas-docs/stable/generated/pandas.DataFrame.pivot_table.html), na documentação do Pandas"
   ]
  }
 ],
 "metadata": {
  "kernelspec": {
   "display_name": "Python 3",
   "language": "python",
   "name": "python3"
  },
  "language_info": {
   "codemirror_mode": {
    "name": "ipython",
    "version": 3
   },
   "file_extension": ".py",
   "mimetype": "text/x-python",
   "name": "python",
   "nbconvert_exporter": "python",
   "pygments_lexer": "ipython3",
   "version": "3.6.5"
  }
 },
 "nbformat": 4,
 "nbformat_minor": 2
}
